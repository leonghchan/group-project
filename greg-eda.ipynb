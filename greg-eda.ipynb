{
 "cells": [
  {
   "cell_type": "markdown",
   "id": "necessary-angle",
   "metadata": {},
   "source": [
    "### To dos\n",
    "- check skew of variables\n",
    "    - apply transformations as required\n",
    "- convert categoricals to dummy variables\n",
    "- deal with nulls/nans (or don't)\n",
    "- split off dependent/independent variables\n",
    "- scale/normalise\n",
    "- split into train/validate\n"
   ]
  },
  {
   "cell_type": "markdown",
   "id": "ordinary-batch",
   "metadata": {},
   "source": [
    "Let's start off with some imports"
   ]
  },
  {
   "cell_type": "code",
   "execution_count": 11,
   "id": "fewer-classroom",
   "metadata": {},
   "outputs": [],
   "source": [
    "%matplotlib inline\n",
    "import pandas as pd\n",
    "import numpy as np\n",
    "import matplotlib.pyplot as plt\n",
    "import seaborn as sns\n",
    "import scipy.stats as st\n",
    "from src.analyse import test_trans\n",
    "from src.analyse import analyse\n",
    "\n",
    "pd.options.display.max_rows = 1000\n",
    "pd.options.display.max_columns = 200\n",
    "plt.rcParams['figure.figsize'] = [10, 4]\n",
    "plt.rcParams['figure.dpi'] = 100"
   ]
  },
  {
   "cell_type": "markdown",
   "id": "fossil-buffalo",
   "metadata": {},
   "source": [
    "We'll then load up the training data and derive a list of numerical and categorical features"
   ]
  },
  {
   "cell_type": "code",
   "execution_count": 2,
   "id": "mental-right",
   "metadata": {},
   "outputs": [],
   "source": [
    "train = pd.read_csv(\"data/train.csv\")\n",
    "\n",
    "# numeric = [var for var in train.columns if train.dtypes[var] != 'object']\n",
    "# category = [var for var in train.columns if train.dtypes[var] == 'object']\n"
   ]
  },
  {
   "cell_type": "markdown",
   "id": "registered-player",
   "metadata": {},
   "source": [
    "Now let's analyse our null values, by feature type"
   ]
  },
  {
   "cell_type": "code",
   "execution_count": 3,
   "id": "incident-starter",
   "metadata": {},
   "outputs": [],
   "source": [
    "# num_nulls = train[numeric].isnull().sum().sort_values(ascending=False)\n",
    "# print(\"Numerical features with null values:\\n{}\".format(num_nulls[num_nulls > 0]))\n",
    "\n",
    "# print()\n",
    "\n",
    "# cat_nulls = train[category].isnull().sum().sort_values(ascending=False)\n",
    "# print(\"Categorical features with null values:\\n{}\".format(cat_nulls[cat_nulls > 0]))\n",
    "\n",
    "\n",
    "# nulls = train.isnull().sum()\n",
    "# nulls = nulls[nulls > 0]\n",
    "# nulls = nulls.reset_index()\n",
    "# nulls.columns = ['variable', 'count']\n",
    "# nulls['percent'] = nulls['count'] / len(train)\n",
    "# nulls.sort_values(\"count\", ascending=False, inplace=True)\n",
    "# nulls"
   ]
  },
  {
   "cell_type": "markdown",
   "id": "knowing-concrete",
   "metadata": {},
   "source": [
    "Numerical features with null values should be replaceable with zeros. For the categoricals, we need to dig a little deeper.\n",
    "\n",
    "`PoolQC`, `MiscFeature`, `Alley`, `Fence`, and `FireplaceQu` all have ~50% or more missing values. Let's check in turn if we should drop the variable or convert it to a dummy.\n",
    "\n",
    "The `Garage*`, `Bsmt*`, and `MsnVnr*` variables each sharing the same values would indicate these nulls communicate an absence of that feature. We can capture this with a dummy variable which we create later"
   ]
  },
  {
   "cell_type": "code",
   "execution_count": 4,
   "id": "sweet-publicity",
   "metadata": {},
   "outputs": [],
   "source": [
    "# high_null = [\"PoolQC\", \"MiscFeature\", \"Alley\", \"Fence\", \"FireplaceQu\"]\n",
    "# for feat in high_null:\n",
    "#     print(train[feat].unique())\n",
    "    \n",
    "# train['LotFrontage'].dtype"
   ]
  },
  {
   "cell_type": "code",
   "execution_count": null,
   "id": "advisory-talent",
   "metadata": {},
   "outputs": [],
   "source": []
  },
  {
   "cell_type": "markdown",
   "id": "sublime-timeline",
   "metadata": {},
   "source": [
    "In my estimation, `PoolQC` is probably covered adequately \n",
    "by the `PoolArea` feature; ditto `FireplaceQu` & `Fireplaces`; \n",
    "`MiscFeature`, with so many null values is unlikely to add value.\n",
    "\n",
    "We will delete these three, along with the unneeded `Id` variable"
   ]
  },
  {
   "cell_type": "code",
   "execution_count": 5,
   "id": "assumed-substance",
   "metadata": {},
   "outputs": [],
   "source": [
    "# if len(train.columns) == 81:\n",
    "#     train = train.drop(['PoolQC', 'MiscFeature', \"FireplaceQu\", \"Id\"], axis=1)"
   ]
  },
  {
   "cell_type": "markdown",
   "id": "literary-accreditation",
   "metadata": {},
   "source": [
    "Before we create our dummy variables, let's look at the last null value we haven't address: Electrical. Given that there is just one of entry, let's drop the data point with no electrical (how does that work anyway?)"
   ]
  },
  {
   "cell_type": "code",
   "execution_count": 6,
   "id": "signal-jacksonville",
   "metadata": {
    "scrolled": true
   },
   "outputs": [],
   "source": [
    "# print(train[train[\"Electrical\"].isna() == True][\"Electrical\"])\n",
    "# nulls = train[\"Electrical\"].isna()\n",
    "# train.drop(nulls.loc[nulls == True].index)\n",
    "#.loc[lambda x: x['Electrical']==True].index\n",
    "# if len(train) == 1460\n",
    "#     train.drop(1379, inplace=True)\n"
   ]
  },
  {
   "cell_type": "markdown",
   "id": "answering-zealand",
   "metadata": {},
   "source": [
    "Let's make those dummy variables. We will utilise the `pandas` built-in `get_dummies()`. Using this function, we capture natively the houses without garages, pools, etc. as entries with 0s for all the categorical options for a given variable. \n",
    "\n",
    "To address this on the numerical variable side, we will `fillna` with 0s"
   ]
  },
  {
   "cell_type": "code",
   "execution_count": 7,
   "id": "amber-screen",
   "metadata": {},
   "outputs": [],
   "source": [
    "# numeric = [var for var in train.columns if train.dtypes[var] != 'object']\n",
    "# category = [var for var in train.columns if train.dtypes[var] == 'object']\n",
    "\n",
    "# categoricals = pd.get_dummies(train[category])\n",
    "# numericals = train[numeric].fillna(0)\n",
    "# dataset = pd.merge(numericals, categoricals, left_index=True, right_index=True)\n",
    "# dataset"
   ]
  },
  {
   "cell_type": "code",
   "execution_count": 8,
   "id": "improved-azerbaijan",
   "metadata": {},
   "outputs": [],
   "source": [
    "\n",
    "# y = train['SalePrice'].sort_values()\n",
    "# # x = np.arange(len(y))\n",
    "# # fig, ax = plt.subplots(1,2)\n",
    "# # plt.figure(1); plt.title('Johnson SU')e 800x1200 with 0 A\n",
    "# # sns.displot(y)\n",
    "\n",
    "# number_of_bins = 50\n",
    "# bin_cutoffs = np.linspace(np.percentile(y,0), np.percentile(y,99),number_of_bins)\n",
    "# h = plt.hist(y, bins = bin_cutoffs, color='0.75')\n",
    "\n",
    "# # Create the plot\n",
    "# # sns.displot(y)\n",
    "# params = st.lognorm.fit(y)\n",
    "# # print(params)\n",
    "\n",
    "# fitted_pdf = st.lognorm.pdf(y, params[0], loc=params[-2], scale=params[-1])\n",
    "# scale_pdf = np.trapz(h[0], h[1][:-1]) / np.trapz(fitted_pdf, y)\n",
    "# fitted_pdf *= scale_pdf\n",
    "# # sns.lineplot(x=y, y=fitted_pdf)\n",
    "# plt.plot(y, fitted_pdf)\n",
    "# # sns.displot(y)\n",
    "# # plt.figure(2); plt.title('Normal')\n",
    "# # sns.distplot(y, kde=False, fit=st.norm)\n",
    "# # plt.figure(3); plt.title('Log Normal')\n",
    "# # sns.distplot(y, kde=False, fit=st.lognorm)"
   ]
  },
  {
   "cell_type": "code",
   "execution_count": 9,
   "id": "hazardous-priority",
   "metadata": {},
   "outputs": [
    {
     "name": "stdout",
     "output_type": "stream",
     "text": [
      "                Skewness    Kurtosis\n",
      "MiscVal        24.476794  701.003342\n",
      "PoolArea       14.828374  223.268499\n",
      "LotArea        12.207688  203.243271\n",
      "3SsnPorch      10.304342  123.662379\n",
      "LowQualFinSF    9.011341   83.234817\n",
      "KitchenAbvGr    4.488397   21.532404\n",
      "BsmtFinSF2      4.255261   20.113338\n",
      "ScreenPorch     4.122214   18.439068\n",
      "BsmtHalfBath    4.103403   16.396642\n",
      "EnclosedPorch   3.089872   10.430766\n",
      "MasVnrArea      2.669084   10.082417\n",
      "OpenPorchSF     2.364342    8.490336\n",
      "LotFrontage     2.163569   17.452867\n",
      "SalePrice       1.882876    6.536282\n",
      "BsmtFinSF1      1.685503   11.118236\n",
      "WoodDeckSF      1.541376    2.992951\n",
      "TotalBsmtSF     1.524255   13.250483\n",
      "MSSubClass      1.407657    1.580188\n",
      "1stFlrSF        1.376757    5.745841\n",
      "GrLivArea       1.366560    4.895121\n",
      "BsmtUnfSF       0.920268    0.474994\n",
      "2ndFlrSF        0.813030   -0.553464\n",
      "OverallCond     0.693067    1.106413\n",
      "TotRmsAbvGrd    0.676341    0.880762\n",
      "HalfBath        0.675897   -1.076927\n",
      "Fireplaces      0.649565   -0.217237\n",
      "BsmtFullBath    0.596067   -0.839098\n",
      "OverallQual     0.216944    0.096293\n",
      "MoSold          0.212053   -0.404109\n",
      "BedroomAbvGr    0.211790    2.230875\n",
      "GarageArea      0.179981    0.917067\n",
      "YrSold          0.096269   -1.190601\n",
      "FullBath        0.036562   -0.857043\n",
      "Id              0.000000   -1.200000\n",
      "GarageCars     -0.342549    0.220998\n",
      "YearRemodAdd   -0.503562   -1.272245\n",
      "YearBuilt      -0.613461   -0.439552\n",
      "GarageYrBlt    -0.649415   -0.418341\n"
     ]
    }
   ],
   "source": [
    "analyse(train)"
   ]
  },
  {
   "cell_type": "code",
   "execution_count": 12,
   "id": "growing-copyright",
   "metadata": {
    "scrolled": true
   },
   "outputs": [
    {
     "data": {
      "image/png": "[encoded data removed]",
      "text/plain": [
       "<Figure size 1000x400 with 3 Axes>"
      ]
     },
     "metadata": {
      "needs_background": "light"
     },
     "output_type": "display_data"
    }
   ],
   "source": [
    "test_trans(train[['LotFrontage']])"
   ]
  },
  {
   "cell_type": "code",
   "execution_count": null,
   "id": "scientific-center",
   "metadata": {},
   "outputs": [],
   "source": []
  }
 ],
 "metadata": {
  "kernelspec": {
   "display_name": "Python 3",
   "language": "python",
   "name": "python3"
  },
  "language_info": {
   "codemirror_mode": {
    "name": "ipython",
    "version": 3
   },
   "file_extension": ".py",
   "mimetype": "text/x-python",
   "name": "python",
   "nbconvert_exporter": "python",
   "pygments_lexer": "ipython3",
   "version": "3.9.1"
  }
 },
 "nbformat": 4,
 "nbformat_minor": 5
}
