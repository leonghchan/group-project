{
 "cells": [
  {
   "cell_type": "markdown",
   "id": "distant-lighting",
   "metadata": {},
   "source": [
    "# Predicting House Prices\n",
    "### Authored by L. Chan & G. Headley\n",
    "\n",
    "This project examines the efficacy of various regression models on predicting sale prices of homes in Ames, Iowa. \n",
    "\n",
    "This 'readme' describes the high level processing we conducted, while referencing additional notebooks for specific details. "
   ]
  },
  {
   "cell_type": "code",
   "execution_count": 1,
   "id": "abstract-squad",
   "metadata": {},
   "outputs": [],
   "source": [
    "import pandas as pd\n",
    "from src.preprocess import clean\n",
    "from src.preprocess import null_match"
   ]
  },
  {
   "cell_type": "markdown",
   "id": "noble-bridges",
   "metadata": {},
   "source": [
    "As our first step, we will load the training and testing datasets from CSV straight into a `pandas` DataFrame. We will briefly combine these data to address null values on a single dataframe and then split them back apart. We also split off the target variable and drop it from the training data"
   ]
  },
  {
   "cell_type": "code",
   "execution_count": 2,
   "id": "large-intermediate",
   "metadata": {},
   "outputs": [],
   "source": [
    "# Some additional strings to consider as null values\n",
    "missing_values = [\"n/a\", \"na\", \"--\"]\n",
    "\n",
    "train = pd.read_csv(\"data/train.csv\", na_values = missing_values)\n",
    "train_no_target = train.drop('SalePrice', axis=1)\n",
    "test = pd.read_csv(\"data/test.csv\", na_values = missing_values)\n",
    "\n",
    "target = train['SalePrice']\n",
    "\n",
    "# Set flag to discriminate between test and train\n",
    "train_no_target['test_data'] = False\n",
    "test['test_data'] = True\n",
    "\n",
    "# Concatenate datasets and renumber the index\n",
    "full_data = pd.concat([train_no_target, test]).reset_index(drop=True)\n"
   ]
  },
  {
   "cell_type": "markdown",
   "id": "eligible-holly",
   "metadata": {},
   "source": [
    "Next, we will address some of the most egregious missing/null values up front (see [missing-values.ipynb](notebooks/missing-values.ipynb) for a thorough analysis of missing & null values). \n",
    "\n",
    "We supply a list of variables to drop in their entirety, as they add little value to the dataset and are >90% null values. We also remove an observation with no value for the \"Electrical\" variable"
   ]
  },
  {
   "cell_type": "code",
   "execution_count": 3,
   "id": "favorite-space",
   "metadata": {},
   "outputs": [],
   "source": [
    "drops = ['PoolQC', 'MiscFeature', 'FireplaceQu', 'Id']\n",
    "\n",
    "elec_na = full_data[\"Electrical\"].isna()\n",
    "cleaner_data = full_data.drop(elec_na.loc[elec_na == True].index)\n",
    "\n",
    "# Make sure to drop the same index in the target variable\n",
    "target = target.drop(elec_na.loc[elec_na == True].index)\n",
    "\n",
    "cleaner_data = clean(cleaner_data, drop_list=drops)"
   ]
  },
  {
   "cell_type": "markdown",
   "id": "northern-regulation",
   "metadata": {},
   "source": [
    "Before filling null values, we must address some discrepancies in null values between 'sibling' columns. For example, the basement columns have slight mismatches in the number of null values, which some variables possessing a few extra null values. To rectify this, we set all basement variables to null if any sibling has a null value. Likewise for other sibling columns like those describing the garage."
   ]
  },
  {
   "cell_type": "code",
   "execution_count": 4,
   "id": "vocal-friendly",
   "metadata": {},
   "outputs": [],
   "source": [
    "siblings = [\n",
    "    [\"BsmtExposure\", \"BsmtCond\", \"BsmtQual\", \"BsmtFinType1\", \"BsmtFinType2\"],\n",
    "    [\"GarageFinish\", \"GarageYrBlt\", \"GarageQual\", \"GarageCond\", \"GarageType\"],\n",
    "    [\"MasVnrType\", \"MasVnrArea\"]   \n",
    "]   \n",
    "\n",
    "sib_match = null_match(cleaner_data, siblings)"
   ]
  },
  {
   "cell_type": "markdown",
   "id": "controlling-taylor",
   "metadata": {},
   "source": [
    "Now we will fill all null values with more appropriate values. This is executed using a dictionary that maps fill values to variable data types. First we compute a list of variables pertaining to each data type, then we supply this to our `clean` function"
   ]
  },
  {
   "cell_type": "code",
   "execution_count": 5,
   "id": "desperate-likelihood",
   "metadata": {},
   "outputs": [
    {
     "data": {
      "text/plain": [
       "0"
      ]
     },
     "execution_count": 5,
     "metadata": {},
     "output_type": "execute_result"
    }
   ],
   "source": [
    "# Create lists of variables names for each data type: integer, float and categorical (objects).\n",
    "ints = [col for col in sib_match.columns if sib_match.dtypes[col] == \"int64\"]\n",
    "floats =  [col for col in sib_match.columns if sib_match.dtypes[col] == \"float64\"]\n",
    "cats =  [col for col in sib_match.columns if sib_match.dtypes[col] == \"object\"]\n",
    "\n",
    "fill_dict = {0: ints, 0.0: floats, \"None\": cats}\n",
    "\n",
    "clean_data = clean(sib_match, fill_na=fill_dict)\n",
    "\n",
    "# Let's confirm we've removed all nulls:\n",
    "clean_data.isna().sum().sum()"
   ]
  },
  {
   "cell_type": "markdown",
   "id": "choice-sentence",
   "metadata": {},
   "source": [
    "Excellent!"
   ]
  }
 ],
 "metadata": {
  "kernelspec": {
   "display_name": "Python 3",
   "language": "python",
   "name": "python3"
  },
  "language_info": {
   "codemirror_mode": {
    "name": "ipython",
    "version": 3
   },
   "file_extension": ".py",
   "mimetype": "text/x-python",
   "name": "python",
   "nbconvert_exporter": "python",
   "pygments_lexer": "ipython3",
   "version": "3.9.1"
  }
 },
 "nbformat": 4,
 "nbformat_minor": 5
}
