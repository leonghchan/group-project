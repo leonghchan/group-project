{
 "cells": [
  {
   "cell_type": "markdown",
   "id": "distant-lighting",
   "metadata": {},
   "source": [
    "# Housing Prices\n",
    "This project examines the efficacy of various regression models on predicting sale prices of homes in Ames, Iowa. \n",
    "\n",
    "This 'readme' describes the high level processing we conducted, while referencing additional notebooks for specific details. "
   ]
  },
  {
   "cell_type": "code",
   "execution_count": 1,
   "id": "abstract-squad",
   "metadata": {},
   "outputs": [],
   "source": [
    "import pandas as pd\n",
    "from src.load import clean\n"
   ]
  },
  {
   "cell_type": "markdown",
   "id": "noble-bridges",
   "metadata": {},
   "source": [
    "As our first step, we will load the training dataset from CSV straight into a `pandas` DataFrame"
   ]
  },
  {
   "cell_type": "code",
   "execution_count": 2,
   "id": "large-intermediate",
   "metadata": {},
   "outputs": [],
   "source": [
    "train_data = pd.read_csv('data/train.csv')"
   ]
  },
  {
   "cell_type": "markdown",
   "id": "eligible-holly",
   "metadata": {},
   "source": [
    "Next, we will address some of the most egregious missing/null values up front (see [missing-values.ipynb](notebooks/missing-values.ipynb) for a thorough analysis of missing & null values). Further work to follow.  "
   ]
  },
  {
   "cell_type": "code",
   "execution_count": 4,
   "id": "favorite-space",
   "metadata": {},
   "outputs": [],
   "source": [
    "drops = ['PoolQC', 'MiscFeature', 'FireplaceQu', 'Id']\n",
    "fills = {'MasVnrArea': 0.0, 'LotFrontage': 0.0}\n",
    "\n",
    "elec_na = train_data[\"Electrical\"].isna()\n",
    "prelim_data = train_data.drop(elec_na.loc[elec_na == True].index)\n",
    "\n",
    "prelim_data = clean(prelim_data, drop_list=drops, fill_na=fills)"
   ]
  },
  {
   "cell_type": "code",
   "execution_count": null,
   "id": "correct-wages",
   "metadata": {},
   "outputs": [],
   "source": []
  }
 ],
 "metadata": {
  "kernelspec": {
   "display_name": "Python 3",
   "language": "python",
   "name": "python3"
  },
  "language_info": {
   "codemirror_mode": {
    "name": "ipython",
    "version": 3
   },
   "file_extension": ".py",
   "mimetype": "text/x-python",
   "name": "python",
   "nbconvert_exporter": "python",
   "pygments_lexer": "ipython3",
   "version": "3.9.1"
  }
 },
 "nbformat": 4,
 "nbformat_minor": 5
}
